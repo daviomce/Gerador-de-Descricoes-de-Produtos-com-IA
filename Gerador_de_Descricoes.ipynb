{
  "nbformat": 4,
  "nbformat_minor": 0,
  "metadata": {
    "colab": {
      "provenance": [],
      "authorship_tag": "ABX9TyNdn0QFnCwshJBd0CmSFbky",
      "include_colab_link": true
    },
    "kernelspec": {
      "name": "python3",
      "display_name": "Python 3"
    },
    "language_info": {
      "name": "python"
    }
  },
  "cells": [
    {
      "cell_type": "markdown",
      "metadata": {
        "id": "view-in-github",
        "colab_type": "text"
      },
      "source": [
        "<a href=\"https://colab.research.google.com/github/daviomce/Gerador-de-Descricoes-de-Produtos-com-IA/blob/main/Gerador_de_Descricoes.ipynb\" target=\"_parent\"><img src=\"https://colab.research.google.com/assets/colab-badge.svg\" alt=\"Open In Colab\"/></a>"
      ]
    },
    {
      "cell_type": "code",
      "execution_count": 14,
      "metadata": {
        "id": "V5wy7rX-jxze"
      },
      "outputs": [],
      "source": [
        "!pip install -q google-generativeai pillow python-dotenv fpdf2\n",
        "from fpdf import FPDF\n",
        "import re\n",
        "import textwrap"
      ]
    },
    {
      "cell_type": "code",
      "source": [
        "from google.colab import drive\n",
        "drive.mount('/content/drive')"
      ],
      "metadata": {
        "id": "hHCcYyb6krPA"
      },
      "execution_count": null,
      "outputs": []
    },
    {
      "cell_type": "code",
      "source": [
        "import google.generativeai as genai\n",
        "from google.colab import userdata # Para acessar os segredos\n",
        "import os\n",
        "\n",
        "try:\n",
        "    # Carrega a chave da API do gerenciador de segredos do Colab\n",
        "    api_key = userdata.get('GOOGLE_API_KEY')\n",
        "    os.environ['GOOGLE_API_KEY'] = api_key # Opcional, mas algumas libs podem procurar vars de ambiente\n",
        "\n",
        "    genai.configure(api_key=api_key)\n",
        "    model = genai.GenerativeModel('gemini-1.5-flash') # Ou 'gemini-pro-vision' para versões anteriores da API\n",
        "    print(\"API do Gemini configurada com sucesso!\")\n",
        "except Exception as e:\n",
        "    print(f\"Erro ao configurar a API do Gemini. Certifique-se de que a chave 'GOOGLE_API_KEY' está definida nos segredos do Colab.\")\n",
        "    print(f\"Detalhes do erro: {e}\")\n",
        "    # Interromper a execução se a API não puder ser configurada\n",
        "    raise SystemExit(\"Configuração da API falhou.\")\n",
        "\n",
        "from google.colab import files\n",
        "from PIL import Image\n",
        "import io # Para lidar com bytes da imagem\n",
        "from IPython.display import Image as IPImage, display, Markdown # Importando display e Markdown aqui"
      ],
      "metadata": {
        "id": "Y2rv6j0Sjzjt"
      },
      "execution_count": null,
      "outputs": []
    },
    {
      "cell_type": "code",
      "source": [
        "print(\"Por favor, faça o upload da imagem do produto:\")\n",
        "uploaded_files = files.upload()\n",
        "\n",
        "pil_image_obj = None\n",
        "image_bytes = None\n",
        "if uploaded_files:\n",
        "    # Pega o nome do primeiro arquivo carregado\n",
        "    file_name = next(iter(uploaded_files))\n",
        "    print(f\"\\nArquivo '{file_name}' carregado com sucesso!\")\n",
        "    image_bytes = uploaded_files[file_name]\n",
        "    pil_image_obj = Image.open(io.BytesIO(image_bytes))\n",
        "\n",
        "    # Exibir a imagem (opcional)\n",
        "    display(IPImage(data=image_bytes, width=300))\n",
        "else:\n",
        "    print(\"Nenhuma imagem foi carregada.\")"
      ],
      "metadata": {
        "id": "zmRy90XMj7d8"
      },
      "execution_count": null,
      "outputs": []
    },
    {
      "cell_type": "code",
      "source": [
        "print(\"\\n--- Informações Adicionais do Produto ---\")\n",
        "product_name = input(\"Nome do produto (opcional, deixe em branco se não tiver): \")\n",
        "brand = input(\"Marca (opcional): \")\n",
        "target_audience = input(\"Público-alvo (opcional): \")\n",
        "key_features = input(\"Características chave (não visuais, ex: material, dimensões, funcionalidades internas - opcional): \")\n",
        "\n",
        "tones = [\"Amigável\", \"Formal\", \"Técnico\", \"Divertido\", \"Premium\", \"Persuasivo\"]\n",
        "print(\"\\nEscolha o tom desejado para a descrição:\")\n",
        "for i, t in enumerate(tones):\n",
        "    print(f\"{i+1}. {t}\")\n",
        "tone_choice = int(input(f\"Digite o número do tom (1-{len(tones)}): \")) -1\n",
        "desired_tone = tones[tone_choice] if 0 <= tone_choice < len(tones) else tones[0]\n",
        "\n",
        "print(f\"\\nTom selecionado: {desired_tone}\")"
      ],
      "metadata": {
        "id": "iYAd4EDyj-cT"
      },
      "execution_count": null,
      "outputs": []
    },
    {
      "cell_type": "code",
      "source": [
        "def construct_prompt(image_exists, product_name, brand, target_audience, desired_tone, key_features):\n",
        "    prompt_parts = []\n",
        "\n",
        "    if image_exists:\n",
        "        prompt_parts.append(\"Analise a imagem fornecida e use-a como base principal para a descrição.\")\n",
        "    else:\n",
        "        prompt_parts.append(\"Crie uma descrição de produto.\") # Fallback se não houver imagem\n",
        "\n",
        "    prompt_parts.append(f\"O tom da descrição deve ser: {desired_tone}.\")\n",
        "\n",
        "    if product_name:\n",
        "        prompt_parts.append(f\"Nome do produto: {product_name}.\")\n",
        "    if brand:\n",
        "        prompt_parts.append(f\"Marca do produto: {brand}.\")\n",
        "    if target_audience:\n",
        "        prompt_parts.append(f\"O público-alvo principal é: {target_audience}.\")\n",
        "    if key_features:\n",
        "        prompt_parts.append(f\"Considere as seguintes características chave não visíveis ou complementares: {key_features}.\")\n",
        "\n",
        "    prompt_parts.append(\"\\nCrie uma descrição de produto detalhada e otimizada para SEO. A descrição deve ser persuasiva e informativa. Inclua:\")\n",
        "    prompt_parts.append(\"- Um título atraente e rico em palavras-chave (se o nome do produto não for fornecido, crie um baseado na imagem e características).\")\n",
        "    prompt_parts.append(\"- Um parágrafo introdutório que capture o interesse e apresente o produto.\")\n",
        "    prompt_parts.append(\"- Destaque para as principais características e benefícios, tanto os visuais (da imagem) quanto os textuais (das informações fornecidas). Use bullet points para clareza.\")\n",
        "    prompt_parts.append(\"- Sugestões de possíveis usos ou aplicações do produto.\")\n",
        "    prompt_parts.append(\"- Argumentos que ressaltem o valor e incentivem a compra, focando nos benefícios para o público-alvo.\")\n",
        "    prompt_parts.append(\"- Utilização natural de palavras-chave relevantes para o tipo de produto, suas características e seu público-alvo ao longo do texto.\")\n",
        "    prompt_parts.append(\"- Se houver texto claramente legível na imagem (ex: nome de modelo, slogans curtos), incorpore-o de forma relevante na descrição, se apropriado.\")\n",
        "    prompt_parts.append(\"\\nFormato de saída sugerido (sinta-se à vontade para adaptar para melhor fluidez e SEO):\\n**[Título Otimizado para SEO]**\\n\\n[Parágrafo Introdutório Envolvente]\\n\\n**Por que você vai amar este produto:**\\n* **[Característica/Benefício Chave 1]:** [Breve explicação]\\n* **[Característica/Benefício Chave 2]:** [Breve explicação]\\n* **[Característica/Benefício Chave 3]:** [Breve explicação]\\n\\n**Ideal para:**\\n[Descreva os usos ou quem se beneficiaria mais]\\n\\n[Parágrafo final com reforço do valor ou uma chamada para ação sutil].\")\n",
        "    prompt_parts.append(\"\\nPor favor, gere apenas a descrição do produto conforme solicitado.\")\n",
        "    return \"\\n\".join(prompt_parts)"
      ],
      "metadata": {
        "id": "vLpJi6tykBei"
      },
      "execution_count": 5,
      "outputs": []
    },
    {
      "cell_type": "code",
      "source": [
        "def generate_description_with_gemini(pil_image, text_prompt):\n",
        "    global model # Garante que estamos usando a variável global 'model'\n",
        "    if not model:\n",
        "        print(\"Erro: O modelo Gemini não foi inicializado.\")\n",
        "        return None\n",
        "    try:\n",
        "        generation_config = genai.types.GenerationConfig(\n",
        "            # candidate_count=1, # Você pode pedir mais de uma se quiser variações\n",
        "            # max_output_tokens=8192, # Ajuste conforme necessário\n",
        "            temperature=0.7, # Ajuste para criatividade vs factualidade (0.0 a 1.0+)\n",
        "            # top_p=1.0,\n",
        "            # top_k=40\n",
        "        )\n",
        "\n",
        "        safety_settings = [ # Ajuste os níveis de segurança conforme sua necessidade\n",
        "            {\"category\": \"HARM_CATEGORY_HARASSMENT\", \"threshold\": \"BLOCK_MEDIUM_AND_ABOVE\"},\n",
        "            {\"category\": \"HARM_CATEGORY_HATE_SPEECH\", \"threshold\": \"BLOCK_MEDIUM_AND_ABOVE\"},\n",
        "            {\"category\": \"HARM_CATEGORY_SEXUALLY_EXPLICIT\", \"threshold\": \"BLOCK_MEDIUM_AND_ABOVE\"},\n",
        "            {\"category\": \"HARM_CATEGORY_DANGEROUS_CONTENT\", \"threshold\": \"BLOCK_MEDIUM_AND_ABOVE\"},\n",
        "        ]\n",
        "\n",
        "        request_contents = [text_prompt]\n",
        "        if pil_image:\n",
        "            request_contents.append(pil_image) # Adiciona a imagem à lista de conteúdos\n",
        "\n",
        "        response = model.generate_content(\n",
        "            request_contents,\n",
        "            generation_config=generation_config,\n",
        "            safety_settings=safety_settings,\n",
        "            stream=False # Mude para True se quiser processar em streaming\n",
        "        )\n",
        "\n",
        "        # Tratamento de blocos e conteúdo\n",
        "        if response.prompt_feedback and response.prompt_feedback.block_reason:\n",
        "            print(f\"Erro: A geração foi bloqueada. Razão: {response.prompt_feedback.block_reason_message or response.prompt_feedback.block_reason}\")\n",
        "            return None\n",
        "\n",
        "        if not response.candidates or not response.candidates[0].content or not response.candidates[0].content.parts:\n",
        "            print(\"Erro: A API não retornou o conteúdo esperado.\")\n",
        "            # Imprimir a resposta completa para depuração\n",
        "            # print(f\"Resposta completa da API: {response}\")\n",
        "            return None\n",
        "\n",
        "        return response.text # Acesso direto ao texto combinado\n",
        "\n",
        "    except Exception as e:\n",
        "        print(f\"Ocorreu um erro ao chamar a API Gemini: {e}\")\n",
        "        # Adicionar log mais detalhado no console para depuração\n",
        "        # print(f\"Erro detalhado da API Gemini: {e}\")\n",
        "        return None"
      ],
      "metadata": {
        "id": "PjC9zhnekGHC"
      },
      "execution_count": 6,
      "outputs": []
    },
    {
      "cell_type": "code",
      "source": [
        "import os\n",
        "from fpdf import FPDF\n",
        "import re\n",
        "import textwrap\n",
        "\n",
        "def salvar_pdf_no_drive(imagem_bytes, descricao, titulo, caminho_base='/content/drive/MyDrive/Gerador_de_descricao/'):\n",
        "    \"\"\"Salva a imagem e a descrição em um arquivo PDF no Google Drive,\n",
        "    usando o título como nome do arquivo, dentro da pasta 'Gerador_de_descricao'.\n",
        "    Cria a pasta se ela não existir.\"\"\"\n",
        "\n",
        "    # Sanitize o título para criar um nome de arquivo válido\n",
        "    nome_arquivo = re.sub(r'[^\\w\\s-]', '', titulo).strip()\n",
        "    nome_arquivo = re.sub(r'\\s+', '_', nome_arquivo) + \".pdf\"\n",
        "    caminho_arquivo = os.path.join(caminho_base, nome_arquivo)\n",
        "\n",
        "    # Cria o diretório se ele não existir\n",
        "    os.makedirs(caminho_base, exist_ok=True)  # Cria o diretório e seus pais, se necessário\n",
        "\n",
        "    pdf = FPDF()\n",
        "    pdf.add_page()\n",
        "\n",
        "    # Adiciona a imagem ao PDF\n",
        "    try:\n",
        "        from PIL import Image\n",
        "        import io\n",
        "        img = Image.open(io.BytesIO(imagem_bytes))\n",
        "        largura_original, altura_original = img.size\n",
        "        largura_max = 150\n",
        "        proporcao = largura_max / largura_original\n",
        "        altura_ajustada = altura_original * proporcao\n",
        "\n",
        "        x_imagem = (pdf.w - largura_max) / 2\n",
        "        pdf.image(io.BytesIO(imagem_bytes), x=x_imagem, y=20, w=largura_max, h=altura_ajustada)\n",
        "        y_texto = 20 + altura_ajustada + 10\n",
        "    except Exception as e:\n",
        "        pdf.cell(0, 10, f\"Erro ao adicionar imagem: {e}\", ln=True)\n",
        "        y_texto = 30\n",
        "\n",
        "    # Adiciona o título, quebrando-o em várias linhas se for muito longo\n",
        "    pdf.set_font(\"Arial\", 'B', size=16)\n",
        "    largura_celula = pdf.w - 20  # Margens de 10 em cada lado\n",
        "    altura_linha = 10\n",
        "    if pdf.get_string_width(titulo) > largura_celula:\n",
        "        # Quebra o título em linhas\n",
        "        linhas = textwrap.wrap(titulo, width=int(largura_celula / pdf.font_size))\n",
        "        for linha in linhas:\n",
        "            pdf.cell(0, altura_linha, linha, ln=True, align='C')\n",
        "    else:\n",
        "        pdf.cell(0, altura_linha, titulo, ln=True, align='C')\n",
        "    pdf.ln(5)  # Adiciona um espaço após o título\n",
        "\n",
        "    # Adiciona a descrição ao PDF\n",
        "    pdf.set_font(\"Arial\", size=12)\n",
        "    pdf.set_y(y_texto)\n",
        "    pdf.multi_cell(0, 10, descricao)\n",
        "\n",
        "    # Salva o arquivo PDF diretamente no Google Drive\n",
        "    try:\n",
        "        pdf.output(caminho_arquivo, \"F\")\n",
        "        print(f\"✅ Resultado salvo com sucesso em: {caminho_arquivo}\")\n",
        "    except Exception as e:\n",
        "        print(f\"❌ Ocorreu um erro ao salvar o PDF no Drive: {e}\")"
      ],
      "metadata": {
        "id": "fAlrip0LkIUR"
      },
      "execution_count": 19,
      "outputs": []
    },
    {
      "cell_type": "code",
      "source": [
        "if pil_image_obj: # Prosseguir apenas se uma imagem foi carregada\n",
        "    print(\"\\nConstruindo o prompt...\")\n",
        "    # Se estiver usando os formulários do Colab, use as variáveis _form aqui:\n",
        "    # product_name_to_use = product_name_form\n",
        "    # brand_to_use = brand_form\n",
        "    # ... etc.\n",
        "    # Senão, use as variáveis do input()\n",
        "    product_name_to_use = product_name\n",
        "    brand_to_use = brand\n",
        "    target_audience_to_use = target_audience\n",
        "    key_features_to_use = key_features\n",
        "    desired_tone_to_use = desired_tone\n",
        "\n",
        "    full_prompt = construct_prompt(\n",
        "        image_exists=True,\n",
        "        product_name=product_name_to_use,\n",
        "        brand=brand_to_use,\n",
        "        target_audience=target_audience_to_use,\n",
        "        desired_tone=desired_tone_to_use,\n",
        "        key_features=key_features_to_use\n",
        "    )\n",
        "\n",
        "    print(\"-----------------------------------------\")\n",
        "    print(\"Prompt enviado para a IA (para depuração):\")\n",
        "    print(full_prompt)\n",
        "    print(\"-----------------------------------------\\n\")\n",
        "\n",
        "    print(\"Gerando descrição... Por favor, aguarde.\")\n",
        "    generated_description = generate_description_with_gemini(pil_image_obj, full_prompt)\n",
        "\n",
        "    if generated_description:\n",
        "        print(\"\\n✅ Descrição Gerada:\")\n",
        "        display(Markdown(generated_description))\n",
        "\n",
        "        # Tenta extrair o título da primeira linha da descrição\n",
        "        titulo_para_arquivo = generated_description.split('\\n')[0].replace('**', '').strip()\n",
        "\n",
        "        # Chama a função para salvar o PDF no Google Drive\n",
        "        salvar_pdf_no_drive(image_bytes, generated_description, titulo_para_arquivo)\n",
        "    else:\n",
        "        print(\"\\n❌ Não foi possível gerar a descrição.\")\n",
        "elif uploaded_files and not pil_image_obj: # Checagem se o upload deu certo mas a imagem não abriu\n",
        "    print(\"\\nErro ao processar a imagem carregada. Verifique o formato do arquivo.\")\n",
        "else:\n",
        "    print(\"\\nNenhuma imagem foi carregada. Por favor, execute a célula de upload de imagem primeiro.\")"
      ],
      "metadata": {
        "id": "NWbt29wskK6H"
      },
      "execution_count": null,
      "outputs": []
    }
  ]
}